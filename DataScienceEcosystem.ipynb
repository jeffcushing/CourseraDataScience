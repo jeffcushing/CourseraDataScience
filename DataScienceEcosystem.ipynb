{
 "cells": [
  {
   "cell_type": "markdown",
   "id": "3829e286-f207-4af2-9ef9-1db901190ea6",
   "metadata": {},
   "source": [
    "# Data Science Tools and Ecosystem"
   ]
  },
  {
   "cell_type": "markdown",
   "id": "b6fff32b-9c19-4bdd-8dcd-bdb1c367cbb6",
   "metadata": {},
   "source": [
    "In this notebook, Data Science Tools and Ecosystem are summarized."
   ]
  },
  {
   "cell_type": "markdown",
   "id": "5eaad943-03ca-49a5-93ea-446edfe9776e",
   "metadata": {},
   "source": [
    "**Objectives**\n",
    "* List popular languages for Data Science\n",
    "* List commonly used libraries used by Data Scientists\n",
    "* Show examples of arithmetic expressions in Python"
   ]
  },
  {
   "cell_type": "markdown",
   "id": "8058419c-3d57-46e2-ba48-a85c34ef6fb6",
   "metadata": {},
   "source": [
    "Some of the popular languages that Data Scientists use are:\n",
    "\n",
    "    1. python\n",
    "    2. SQL\n",
    "    3. R"
   ]
  },
  {
   "cell_type": "markdown",
   "id": "cc58d3b3-9850-4de7-b60d-b36fff9747f2",
   "metadata": {},
   "source": [
    "Some of the commonly used libraries used by Data Scientists include:\n",
    "    \n",
    "1. SciKitLearn\n",
    "2. MatPlotLib\n",
    "3. Pandas"
   ]
  },
  {
   "cell_type": "markdown",
   "id": "a0252ffd-2b90-43ef-a315-b7c15bf4518f",
   "metadata": {
    "tags": []
   },
   "source": [
    "Data Science Tools|\n",
    "-----\n",
    "MySQL\n",
    "Apache Airflow\n",
    "GitHub"
   ]
  },
  {
   "cell_type": "markdown",
   "id": "0836c323-eac5-454a-b012-65e0d42d4cab",
   "metadata": {},
   "source": [
    "Below are a few examples of evaluating arithmetic expressions in Python.\n"
   ]
  },
  {
   "cell_type": "code",
   "execution_count": 4,
   "id": "f5657ad0-2ff9-4d09-b0aa-e18622404f27",
   "metadata": {
    "tags": []
   },
   "outputs": [
    {
     "data": {
      "text/plain": [
       "17"
      ]
     },
     "execution_count": 4,
     "metadata": {},
     "output_type": "execute_result"
    }
   ],
   "source": [
    "#This a simple arithmetic expression to mutiply then add integers\n",
    "(3*4)+5"
   ]
  },
  {
   "cell_type": "code",
   "execution_count": 5,
   "id": "b4153d30-c13a-4777-ac9b-17b42f39ea9e",
   "metadata": {
    "tags": []
   },
   "outputs": [
    {
     "data": {
      "text/plain": [
       "3.3333333333333335"
      ]
     },
     "execution_count": 5,
     "metadata": {},
     "output_type": "execute_result"
    }
   ],
   "source": [
    "#This will convert 200 minutes to hours by diving by 60\n",
    "200/60"
   ]
  },
  {
   "cell_type": "markdown",
   "id": "b017e583-e43a-487a-8b2e-5430b5ce471c",
   "metadata": {
    "tags": []
   },
   "source": [
    "## Author ##\n",
    "Jeff Cushing"
   ]
  },
  {
   "cell_type": "code",
   "execution_count": null,
   "id": "650c833e-1fe0-45a1-9b24-548dc37aafa3",
   "metadata": {},
   "outputs": [],
   "source": []
  }
 ],
 "metadata": {
  "kernelspec": {
   "display_name": "Python",
   "language": "python",
   "name": "conda-env-python-py"
  },
  "language_info": {
   "codemirror_mode": {
    "name": "ipython",
    "version": 3
   },
   "file_extension": ".py",
   "mimetype": "text/x-python",
   "name": "python",
   "nbconvert_exporter": "python",
   "pygments_lexer": "ipython3",
   "version": "3.7.12"
  }
 },
 "nbformat": 4,
 "nbformat_minor": 5
}
